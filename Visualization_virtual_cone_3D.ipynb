{
 "cells": [
  {
   "cell_type": "markdown",
   "metadata": {},
   "source": [
    "## Computing Virtual Cones for the given implicit surface"
   ]
  },
  {
   "cell_type": "markdown",
   "metadata": {},
   "source": [
    "### Objective\n",
    "Given an implicit surface and set of camera rays, here we compute the virtual cones for each camera ray in parallel. "
   ]
  },
  {
   "cell_type": "markdown",
   "metadata": {},
   "source": [
    "Starting with including required packaged and adding some helper functions"
   ]
  },
  {
   "cell_type": "code",
   "execution_count": 1,
   "metadata": {
    "vscode": {
     "languageId": "python"
    }
   },
   "outputs": [],
   "source": [
    "%matplotlib widget\n",
    "import torch\n",
    "from torch import autograd\n",
    "from functools import partial\n",
    "from mpl_toolkits.mplot3d import Axes3D\n",
    "import matplotlib.pyplot as plt\n",
    "\n",
    "dot = lambda x,y: (x*y).sum(-1, keepdim=True)\n",
    "norm = lambda x: torch.sqrt((x**2).sum(-1, keepdim=True))\n",
    "transp = lambda x: x.transpose(-2,-1)\n",
    "normalize = lambda x: x/(1e-7+norm(x))"
   ]
  },
  {
   "cell_type": "markdown",
   "metadata": {},
   "source": [
    "### Given quantitites\n",
    "<img src=\"media/viz_3D_1.jpg\" width=\"200\">\n"
   ]
  },
  {
   "cell_type": "markdown",
   "metadata": {},
   "source": [
    "\n",
    "**1. Implicit Surface**\n",
    "\n",
    "Here we consider the implicit surface to be a quadric. But all the computation in this script holds true for other forms of implicit surfaces such as signed distance functions.  \n",
    "Examples of quadric surfaces include spheres, ellipsoids, cylinders, hyperboloids and paraboloids. Quadric can be written in matrix form as :\n",
    "$$ \\mathbf{p}^TQ\\mathbf{p} = 1$$\n",
    ", where $p \\in R^3$ is a point on the surface, $Q$ is a 3x3 matrix representing the quadric. "
   ]
  },
  {
   "cell_type": "code",
   "execution_count": 2,
   "metadata": {
    "vscode": {
     "languageId": "python"
    }
   },
   "outputs": [],
   "source": [
    "def implicit_quadric(Q_mat, p_vec):\n",
    "    p_vec = p_vec.requires_grad_(True)\n",
    "    return transp(p_vec[...,None])@Q_mat@p_vec[...,None] - 1"
   ]
  },
  {
   "cell_type": "markdown",
   "metadata": {},
   "source": [
    "Here are Q matrices for different common quadrics. "
   ]
  },
  {
   "cell_type": "code",
   "execution_count": 3,
   "metadata": {
    "vscode": {
     "languageId": "python"
    }
   },
   "outputs": [],
   "source": [
    "## Sphere with radius 5\n",
    "# Q_mat = torch.Tensor([[1,0,0],\n",
    "#                       [0,1,0],\n",
    "#                       [0,0,1.]])/25\n",
    "# # Cylinder with radius 5 and axis along y\n",
    "# Q_mat = torch.Tensor([[1,0,0],\n",
    "#                       [0,0,0],\n",
    "#                       [0,0,1.]])/25\n",
    "# Ellipse with radius 5 along x and z, 2.5 along y\n",
    "Q_mat = torch.Tensor([[1,0,0],\n",
    "                      [0,4,0],\n",
    "                      [0,0,1]])/25\n",
    "# Partial creates a function with only x as the argument\n",
    "f_func = partial(implicit_quadric, Q_mat)"
   ]
  },
  {
   "cell_type": "markdown",
   "metadata": {},
   "source": [
    "**2. Camera ray parameters**\n",
    "\n",
    "Suppose we are querying $N$ pixels. Each pixel corresponds to a primary ray shot from pinhole to center of the pinhole. The primary ray can be represented by ray source $\\mathbf{s}$ and direction $\\mathbf{d}$. In this example consider $N=2$ pixels one along x axis and another along y axis. \n"
   ]
  },
  {
   "cell_type": "code",
   "execution_count": 4,
   "metadata": {
    "vscode": {
     "languageId": "python"
    }
   },
   "outputs": [],
   "source": [
    "s = torch.Tensor([[10, 0, 0], \n",
    "                  [0,  0, 10]]) # 2 x 3\n",
    "d = normalize(torch.Tensor([[-1., 0, 0],\n",
    "                            [ 0,  0, -1]]))"
   ]
  },
  {
   "cell_type": "markdown",
   "metadata": {},
   "source": [
    "**3. Ray surface intersection**\n",
    "\n",
    "$\\mathbf{p}$ is intersection of the primary ray with the implicit surface. For ORCA, VolSDF part gives us multiple values of $\\mathbf{p}$ For analytical SDF it can be found by sphere tracing. For quadric, it can be found by solving ray quadric intersection. Here I am just hard coding the intersection values which would be the same for the above 3 $Q$ matrices. If you change $Q$ to any other value, intersection points would be different\n"
   ]
  },
  {
   "cell_type": "code",
   "execution_count": 5,
   "metadata": {
    "vscode": {
     "languageId": "python"
    }
   },
   "outputs": [],
   "source": [
    "p = torch.Tensor([[5, 0, 0], \n",
    "                  [0, 0, 5]])"
   ]
  },
  {
   "cell_type": "markdown",
   "metadata": {},
   "source": [
    "**3. Primary cone rays**\n",
    "\n",
    "As the pixel has finite size, each primary ray corresponds to a cone. The corners of the pixel can be connected to the pinhole, to obtain four corners of the cone. Appending these corner rays with the central ray, we have 5 rays that define the cone for each pixel. I am hard coding the corner rays But MipNeRF has code to compute these corner rays. "
   ]
  },
  {
   "cell_type": "code",
   "execution_count": 6,
   "metadata": {
    "vscode": {
     "languageId": "python"
    }
   },
   "outputs": [],
   "source": [
    "d_primary = d \n",
    "sp =  0.1 # Size of pixel\n",
    "d = normalize(torch.Tensor([[[-1., 0, 0], [-1., sp, 0.], [-1. , 0., sp], [-1, -sp, 0.], [-1., 0, -sp]],\n",
    "                            [[0., 0, -1.], [0., sp, -1.], [sp , 0., -1], [0., -sp, -1.], [-sp, 0, -1.]]]))\n",
    "    # 2 x 5 x 3\n",
    "# Add singelton dimensions to s and p\n",
    "s = s[...,None,:]\n",
    "p = p[...,None,:]"
   ]
  },
  {
   "cell_type": "markdown",
   "metadata": {},
   "source": [
    "### Estimate Normal and Curvature of implicit surface\n",
    "<img src=\"media/viz_3D_2.jpg\" width=\"300\">"
   ]
  },
  {
   "cell_type": "markdown",
   "metadata": {},
   "source": [
    "**1. Surface Normals**\n",
    "\n",
    "Similar to VolSDF, we can compute normals using the gradient of the implicit surface $f(\\mathbf{x})$ (here $=\\mathbf{x}^TQ\\mathbf{x}$)\n",
    "$$ N = \\dfrac{\\nabla f}{\\| \\nabla f\\|}$$"
   ]
  },
  {
   "cell_type": "code",
   "execution_count": 7,
   "metadata": {
    "vscode": {
     "languageId": "python"
    }
   },
   "outputs": [],
   "source": [
    "def get_grad(f_val, x, has_grad=True):\n",
    "    return autograd.grad(\n",
    "        f_val, \n",
    "        x, \n",
    "        torch.ones_like(f_val, device=x.device),\n",
    "        create_graph = has_grad, \n",
    "        retain_graph= has_grad, \n",
    "        only_inputs=True)[0]\n",
    "        \n",
    "\n",
    "def get_surface_normals(f_func, x, has_grad=True):\n",
    "    f_val = f_func(x)\n",
    "    grad_f = get_grad(f_val,x,has_grad)\n",
    "    return grad_f/norm(grad_f)\n",
    "\n",
    "N = get_surface_normals(f_func, p)"
   ]
  },
  {
   "cell_type": "markdown",
   "metadata": {},
   "source": [
    "**2. Curvature**\n",
    "\n",
    "For curvature, we first have to define shape operator $dN$. Shape operator is differential of the normal map. $dN$ is defined on the tangent plane at a point $\\mathbf{p}$. For more details and intuition on shape operator refer to [this lecture](https://www.youtube.com/watch?v=UewzuzaPlxA) by Prof. Justin Solomon \n",
    "\n",
    "For implicit function $f$, [this paper](https://arxiv.org/pdf/2201.09263.pdf) defines $dN$ as the following linear function:\n",
    "\n",
    "$$dN = (I-N.N^T)\\frac{\\mathbf{H}f}{\\|\\nabla f\\|} $$\n",
    "where $\\mathbf{H}f$ is the Hessian of f and I is 3x3 identity matrix. \n",
    "\n"
   ]
  },
  {
   "cell_type": "code",
   "execution_count": 8,
   "metadata": {
    "vscode": {
     "languageId": "python"
    }
   },
   "outputs": [],
   "source": [
    "def get_H(f_func, x, has_grad=True):\n",
    "    # TODO: Vectorize Hessian computation\n",
    "    x_flat = x.reshape(-1,3)\n",
    "    b_len = x_flat.shape[0]\n",
    "    H = torch.zeros(b_len, 3, 3).to(x.device).float()\n",
    "    for idx in range(b_len):\n",
    "        H[idx] = autograd.functional.hessian(f_func, x_flat[idx],\n",
    "                                             create_graph=True, \n",
    "                                             vectorize=True)\n",
    "    return H.reshape(x.shape[:-1]+(3,3))\n",
    "\n",
    "def get_shape_operator(f_func, x, has_grad=True):\n",
    "    f_val = f_func(x)\n",
    "    Hf = get_H(f_func, x, has_grad) # ..., 3x3\n",
    "    grad_f = get_grad(f_val, x, has_grad)# ..., 3,\n",
    "    N = get_surface_normals(f_func, x, has_grad)[...,None] # ..., 3,1\n",
    "    I = torch.eye(3)\n",
    "    if x.ndim > 1:\n",
    "        # Add singleton based on batch dimensions of x\n",
    "        I = I.reshape((1,)*(x.ndim-1)+I.shape)\n",
    "    return (I-N@transp(N))@Hf/norm(grad_f)[...,None]\n",
    "\n",
    "dN = get_shape_operator(f_func, p)"
   ]
  },
  {
   "cell_type": "markdown",
   "metadata": {},
   "source": [
    "From the shape operator, we can find curvature along any vector $\\mathbf{v}$ in the tangent plane as:\n",
    "$$ \\kappa_{\\mathbf{v}} = \\left<-dN.\\mathbf{v},\\mathbf{v}\\right>$$\n",
    "where $\\left<,\\right>$ is the inner product. \n"
   ]
  },
  {
   "cell_type": "code",
   "execution_count": 9,
   "metadata": {
    "vscode": {
     "languageId": "python"
    }
   },
   "outputs": [],
   "source": [
    "def get_normal_curvature(dN, v) :\n",
    "    return dot((-dN@(v[...,None]))[...,0], v)   "
   ]
  },
  {
   "cell_type": "markdown",
   "metadata": {},
   "source": [
    "### Primary cone rays and oscullating surface intersection\n",
    "Which vectors along the tangent plane should we query the curvature? We can intersect the primary cone rays with the surface to find the tangent vectors.\n",
    "\n",
    "<img src=\"media/viz_3D_3.jpg\" width=\"300\">"
   ]
  },
  {
   "cell_type": "code",
   "execution_count": 10,
   "metadata": {
    "vscode": {
     "languageId": "python"
    }
   },
   "outputs": [],
   "source": [
    "def intersect_ray_plane(s, d, N, p):\n",
    "    # Surface given by <x-p,N>=0\n",
    "    # Ray given by x = s+td , t> 0\n",
    "    t_int = dot(p-s,N)\n",
    "    return s+t_int*d\n",
    "# Intersect cone ray and tangent plane \n",
    "u = intersect_ray_plane(s, d, N, p)"
   ]
  },
  {
   "cell_type": "markdown",
   "metadata": {},
   "source": [
    "We can query the radius of curvature at the intersection point, to get the oscullating circle. "
   ]
  },
  {
   "cell_type": "code",
   "execution_count": 11,
   "metadata": {
    "vscode": {
     "languageId": "python"
    }
   },
   "outputs": [],
   "source": [
    "# Repeat dN along cone rays dimension\n",
    "dN_exp = dN.expand(-1,5,-1,-1)\n",
    "# Get radius along the direction of intersection\n",
    "Ku = get_normal_curvature(dN_exp, u-p)\n",
    "# Radius of curvature (Negative if convex)\n",
    "Ru = 1/Ku\n",
    "# Center of radius\n",
    "cu = p + Ru*N"
   ]
  },
  {
   "cell_type": "markdown",
   "metadata": {},
   "source": [
    "Intersect the ray with oscullating circle. "
   ]
  },
  {
   "cell_type": "code",
   "execution_count": 12,
   "metadata": {
    "vscode": {
     "languageId": "python"
    }
   },
   "outputs": [],
   "source": [
    "def intersect_ray_circle(s, d, c, R):\n",
    "    # Circle given by <x-c,x-c>=R**2\n",
    "    # Ray given by x = s+td\n",
    "    # Point of intersection t follows:\n",
    "    # a2t^2 + a1t + a0 with following values\n",
    "    a2 = 1.\n",
    "    a1 = 2*dot(d, s-c)\n",
    "    a0 = norm(s-c)**2 - R**2\n",
    "    # Using quadratic formula finding the smaller of the two roots\n",
    "    t_int = (-a1 - torch.sqrt(a1**2 - 4*a2*a0))/(2*a2)\n",
    "\n",
    "    return s+t_int*d\n",
    "\n",
    "# Intersect ray and oscullating circle\n",
    "c_int = intersect_ray_circle(s, d, cu, Ru)\n"
   ]
  },
  {
   "cell_type": "markdown",
   "metadata": {},
   "source": [
    "### Virtual cone parameters\n",
    "<img src=\"media/viz_3D_4.jpg\" width=\"300\">\n"
   ]
  },
  {
   "cell_type": "markdown",
   "metadata": {},
   "source": [
    "**1. Virtual Cone directions**\n",
    "\n",
    "From the osculating circles we know the normal vector. Normals $N_u$ at a point on the osculating circle is ray going from center $c_u$ to point of intersection $c_{int}$."
   ]
  },
  {
   "cell_type": "code",
   "execution_count": 13,
   "metadata": {
    "vscode": {
     "languageId": "python"
    }
   },
   "outputs": [],
   "source": [
    "Nu = normalize(c_int-cu)"
   ]
  },
  {
   "cell_type": "markdown",
   "metadata": {},
   "source": [
    "Virtual cone direction can then be found using the reflection formula"
   ]
  },
  {
   "cell_type": "code",
   "execution_count": 14,
   "metadata": {
    "vscode": {
     "languageId": "python"
    }
   },
   "outputs": [],
   "source": [
    "d_r = d - 2*dot(d,Nu)*Nu"
   ]
  },
  {
   "cell_type": "markdown",
   "metadata": {},
   "source": [
    "**2. Virtual Cone Apex**\n",
    "\n",
    "We approximate the cone as the point with the least net distance from all the cone rays. This can be posed as a pseudo-inverse problem as described [here](https://math.stackexchange.com/a/55286) ."
   ]
  },
  {
   "cell_type": "code",
   "execution_count": 16,
   "metadata": {
    "vscode": {
     "languageId": "python"
    }
   },
   "outputs": [],
   "source": [
    "def closest_pt_to_lines(c_int, d_r):\n",
    "    # Written in terminology described in the link\n",
    "    w_i = c_int[...,None] # N x 5 x 3 x 1\n",
    "    u_i = d_r[...,None] # N x 5 x 3 x 1\n",
    "    I = torch.eye(3)\n",
    "    # Add singleton based on batch dimensions of w_i\n",
    "    I = I.reshape((1,)*(w_i.ndim-2)+I.shape) # N x 5 x 3 x 3\n",
    "    A_i = I - u_i@transp(u_i) # N x 5 x 3 x 3\n",
    "    p_i = A_i @ w_i # N x 5 x 3 x 1\n",
    "\n",
    "    # Sum along cone rays\n",
    "    A = A_i.sum(-3, keepdim=True) # N x 1 x 3 x 3\n",
    "    p = p_i.sum(-3, keepdim=True) # N x 1 x 3 x 1\n",
    "\n",
    "    A_pinv = torch.inverse(A)\n",
    "    o_prime = A_pinv@p # N x 1 x 3 x 1\n",
    "\n",
    "    return o_prime[...,0]\n",
    "\n",
    "o_prime = closest_pt_to_lines(c_int, d_r)"
   ]
  },
  {
   "cell_type": "markdown",
   "metadata": {},
   "source": [
    "**3. Virtual Cone Radius**\n",
    "\n",
    "From the virtual camera position $o'$ and the virtual cone directions $d_r$, we can compute cone radius $r'$ in a similar manner as MipNeRF"
   ]
  },
  {
   "cell_type": "markdown",
   "metadata": {},
   "source": []
  }
 ],
 "metadata": {
  "kernelspec": {
   "display_name": "Python 3 (ipykernel)",
   "language": "python",
   "name": "python3"
  }
 },
 "nbformat": 4,
 "nbformat_minor": 2
}
